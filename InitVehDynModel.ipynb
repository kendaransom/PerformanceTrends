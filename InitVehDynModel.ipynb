{
 "cells": [
  {
   "cell_type": "markdown",
   "metadata": {},
   "source": [
    "First cut at Full Vehicle Dynamics Model for Performance Trends using equations and values from Form1.vb and FrontSuspension.m. \n",
    "\n",
    "Here are the initial assumptions:\n",
    "\n",
    "Use static values for LF, RF trackwidth\n",
    "LR & RR trackwidth is the same as LF & RF\n",
    "Use static panhard angle\n",
    "Use previous regression equation for LFIC, LFAD, LFFVSA, RFIC, RFAD, RFFVSA, LRAS, RRAS based on Pitch and Roll\n"
   ]
  },
  {
   "cell_type": "markdown",
   "metadata": {},
   "source": [
    "Vehicle Suspension Parameters"
   ]
  },
  {
   "cell_type": "code",
   "execution_count": 2,
   "metadata": {},
   "outputs": [],
   "source": [
    "CGy = 5.1 #Center of Gravity y, in\n",
    "CGz = 16 #Center of Gravity z, in\n",
    "LFTW = 32.29 #LF Trackwidth, in\n",
    "RFTW = 32.25 #RF Trackwidth, in\n",
    "LRTW = LFTW #LR Trackwidth, in \n",
    "RRTW = RFTW #RR Trackwidth, in\n",
    "WB = 108 #Wheelbase, in\n",
    "P2CL = 20 #Panhard to Centerline, in\n",
    "LA2CL = 24 #Lower Arm to Centerline, in\n",
    "P2LR = LRTW - P2CL #Panhard to LR, in\n",
    "LRP = 18 #LR Panhard, in\n",
    "RWR = 13.5 #Rear Wheel Radius, in\n",
    "PAng = -3.3/57.3 #Panhard angle, converted from deg to rad\n"
   ]
  },
  {
   "cell_type": "markdown",
   "metadata": {},
   "source": [
    "Vehicle Weight Parameters"
   ]
  },
  {
   "cell_type": "code",
   "execution_count": 4,
   "metadata": {},
   "outputs": [],
   "source": [
    "Nose = 49 #Nose Weight Pct, %\n",
    "Cross = 51 #Cross Weight Pct, %\n",
    "WLeft = 48 #Left Side Weight Pct, %\n",
    "WRight = (100-WLeft) #Right Side Weight Pct, %\n",
    "FBrakeBias = 50 #Front Brake Bias Pct, %\n",
    "VehWt = 2850 #Vehicle Weight, lbs\n",
    "VehM = VehWt/32.2/12 #Convert to Mass\n",
    "USLFWt = 170 #Left Front Unsprung Weight, lbs\n",
    "USLFM = USLFWt/32.2/12 #Left Front Unsprung Mass \n",
    "USRFWt = 170 #Right Front Unsprung Weight, lbs\n",
    "USRFM = USRFWt/32.2/12 #Right Front Unsprung Mass \n",
    "USRWt = 429 #Left Rear Unsprung Weight, lbs\n",
    "USRM = USRWt/32.2/12 #Rear Unsprung Mass \n",
    "LFStatic = 700 #Left Front Scale Weight, lbs\n",
    "RFStatic = 700 #Right Front Scale Weight, lbs\n",
    "LRStatic = 868 #Left Rear Scale Weight, lbs\n",
    "RRStatic = 528 #Right Rear Scale Weight, lbs\n",
    "DragCoef = .42 #Vehicle Drag Coef\n",
    "FrontArea = 21 #Vehicle Frontal Area, ft^2\n",
    "a = (Nose/100)*WB #Long dist from front axle to CG\n",
    "b = WB-a #Long dist from rear axle to CG"
   ]
  },
  {
   "cell_type": "markdown",
   "metadata": {},
   "source": [
    "Suspension Rates"
   ]
  },
  {
   "cell_type": "code",
   "execution_count": null,
   "metadata": {
    "collapsed": true
   },
   "outputs": [],
   "source": [
    "# Tire Spring Rate\n",
    "KtLF = 1500 #Left Front Tire Spring Rate, lb/in\n",
    "KtRF = 3800 #Right Front Tire Spring Rate, lb/in\n",
    "KtLR = 1800 #Left Rear Tire Spring Rate, lb/in\n",
    "KtRR = 2500 #Right Rear Tire Spring Rate, lb/in\n",
    "\n",
    "# Wheel Rate\n",
    "KwLF = 200 #Left Front Wheel Rate, lb/in\n",
    "KwRF = 700 #Right Front Wheel Rate, lb/in\n",
    "KwLR = 125 #Left Rear Wheel Rate, lb/in\n",
    "KwRR = 475 #Right Rear Wheel Rate, lb/in\n",
    "\n",
    "# Shock Rate\n",
    "KshLF = 100 #Left Front Shock Rate, lb/in\n",
    "KshRF = 200 #Right Front Shock Rate, lb/in\n",
    "KshLR = 75 #Left Rear Shock Rate, lb/in\n",
    "KshRR = 250 #Right Rear Shock Rate, lb/in\n",
    "\n",
    "# Roll Bar Rate\n",
    "Kfarb = 250000 #Front Rollbar Rate, lb/in\n",
    "Krarb = 80000 #Rear Rollbar Rate, lb/in"
   ]
  },
  {
   "cell_type": "markdown",
   "metadata": {},
   "source": [
    "Circle Track Analyzer Outputs\n",
    "Dive, in\n",
    "Roll, deg\n",
    "VehLFWt, lbs\n",
    "VehRFWt, lbs\n",
    "VehLRWt, lbs\n",
    "VehRRWt, lbs\n",
    "RPM\n",
    "Torque (missing?)\n",
    "LongAccel, g's\n",
    "LatAccel, g's\n",
    "Downforce, lbs\n",
    "Speed, mph\n",
    "\n",
    "Initial test with 5 timesteps to sort code. Should be able to read this file in."
   ]
  },
  {
   "cell_type": "code",
   "execution_count": 6,
   "metadata": {
    "collapsed": true
   },
   "outputs": [],
   "source": [
    "Dive = [0.55, -0.21, -0.33, -0.42, -0.49] \n",
    "Roll = [0.42, 1.44, 1.4, 1.31, 1.23]\n",
    "VehLFWt =[355, 369, 395, 418, 455]\n",
    "VehRFWt = [986, 920, 851, 798, 764]\n",
    "VehLRWt = [856, 925, 991, 1038, 1053]\n",
    "VehRRWt = [906, 833, 751, 686, 634]\n",
    "RPM = [4316, 4509, 4879, 5251, 5616]\n",
    "LongAccel = [0, 0.52, 0.53, 0.52, 0.51]\n",
    "LatAccel = [0.89, 0.88, 0.71, 0.52, 0.37]\n",
    "Downforce = [317, 310, 246, 172, 115]\n",
    "Speed = [67, 70, 76, 82, 88]"
   ]
  },
  {
   "cell_type": "markdown",
   "metadata": {},
   "source": [
    "Perform preliminary calculations that will be used later based on Circle Track Analyzer Output\n",
    "VertAccel, g's\n",
    "Drag, lbs\n",
    "LongForce, lbs\n",
    "LatForce, lbs"
   ]
  },
  {
   "cell_type": "code",
   "execution_count": 22,
   "metadata": {},
   "outputs": [
    {
     "name": "stdout",
     "output_type": "stream",
     "text": [
      "[47.48703489669423, 51.83481198347109, 61.10160694214876, 71.13005628099175, 81.92016000000002]\n"
     ]
    }
   ],
   "source": [
    "# Vertical Acceleration\n",
    "\n",
    "VertAccel = [Downforce[i]/VehWt for i in range(len(Downforce))]\n",
    "#print(VertAccel)\n",
    "\n",
    "# Convert Speed to ft/s\n",
    "Speed_fps = [Speed[i]/(5280/3600) for i in range(len(Speed))]\n",
    "#print(Speed_fps)\n",
    "\n",
    "# Drag\n",
    "Drag = [DragCoef*FrontArea*0.00258* Speed_fps[i]**2 for i in range(len(Speed_fps))]\n",
    "print(Drag)\n",
    "\n",
    "# Longitudinal Force\n",
    "Fx = [(LongAccel[i]*VehWt)+Drag[i] for i in range(len(LongAccel))]\n",
    "#print(Fx)\n",
    "\n",
    "# Lateral Force\n",
    "Fy = [(LatAccel[i]*VehWt) for i in range(len(LatAccel))]\n",
    "#print(Fy)"
   ]
  },
  {
   "cell_type": "markdown",
   "metadata": {},
   "source": [
    "Calculate left front and right front instant center, anti dive and front view swing angle using previous regression coefficients. Moving forward, this should be regressed on the fly using dive and roll, or interpolated using dive.\n",
    "\n",
    "Calculate left rear and right rear anti squat percentage. Moving forward this should be regressed on the fly using the dive and roll, or interpolated using dive."
   ]
  },
  {
   "cell_type": "code",
   "execution_count": 26,
   "metadata": {},
   "outputs": [
    {
     "name": "stdout",
     "output_type": "stream",
     "text": [
      "[22.675140329999998, 50.50147211, 52.09023983000001, 52.51180361, 52.71200701000001]\n",
      "[51.19271792999999, 51.856116990000004, 54.45464422999999, 57.11149444999999, 59.276710449999996]\n"
     ]
    }
   ],
   "source": [
    "# Left front instant center\n",
    "LFIC = [6.3733 + -1.54 * Dive[i] + 0.3317 * Roll[i] + 0.1 * Dive[i]**2 + 0.015 * Roll[i]**2 + -0.08 * Dive[i] * Roll[i]\n",
    "       for i in range(len(Dive))]\n",
    "#print(LFIC)\n",
    "\n",
    "# Left front anti dive\n",
    "LFAD = [3.7976 + -0.0116 * Dive[i] + 0.1149 * Roll[i] + -0.042 * Dive[i]**2 + -0.0135 * Roll[i]**2 + 0.0613 * Dive[i] * Roll[i]\n",
    "       for i in range(len(Dive))]\n",
    "#print(LFAD)\n",
    "\n",
    "# Left front front view swing angle\n",
    "LFFVSA = [31.0644 + -1.521 * Dive[i] + 1.1083 * Roll[i] + 0.0802 * Dive[i]**2 + 0.0222 * Roll[i]**2 + -0.1025 * Dive[i] * Roll[i]\n",
    "       for i in range(len(Dive))]\n",
    "#print(LFFVSA)\n",
    "\n",
    "# Right front instant center\n",
    "RFIC = [6.7767 + -1.625 * Dive[i] + -0.3067 * Roll[i] + 0.115 * Dive[i]**2 + 0.01 * Roll[i]**2 + 0.08 * Dive[i] * Roll[i]\n",
    "       for i in range(len(Dive))]\n",
    "#print(RFIC)\n",
    "\n",
    "# Right front anti dive\n",
    "RFAD = [-2.4693 + -0.6151 * Dive[i] + -0.2664 * Roll[i] + -0.0652 * Dive[i]**2 + -0.0032 * Roll[i]**2 + -0.0297 * Dive[i] * Roll[i]\n",
    "       for i in range(len(Dive))]\n",
    "#print(RFAD)\n",
    "\n",
    "# Right front front view swing angle\n",
    "RFFVSA = [34.5054 + -2.2535 * Dive[i] + -1.4583 * Roll[i] + 0.1298 * Dive[i]**2 + 0.0363 * Roll[i]**2 + 0.158 * Dive[i] * Roll[i]\n",
    "       for i in range(len(Dive))]\n",
    "#print(RFFVSA)\n",
    "\n",
    "# Left rear anti squat percentage\n",
    "LRAS = [28.2053 + -19.5437 * Dive[i] + 12.8093 * Roll[i] + -1.2993 * Dive[i]**2 + 0.0467 * Roll[i]**2 + 0.9687 * Dive[i] * Roll[i]\n",
    "       for i in range(len(Dive))]\n",
    "#print(LRAS)\n",
    "\n",
    "# Right rear anti squat percentage\n",
    "RRAS = [66.4164 + -16.8635 * Dive[i] + -12.7975 * Roll[i] + -1.2193 * Dive[i]**2 + 0.0487 * Roll[i]**2 + -0.9245 * Dive[i] * Roll[i]\n",
    "       for i in range(len(Dive))]\n",
    "#print(RRAS)"
   ]
  },
  {
   "cell_type": "markdown",
   "metadata": {},
   "source": [
    "Determine how to split longitudinal force between individual wheels during braking and acceleration"
   ]
  },
  {
   "cell_type": "code",
   "execution_count": 35,
   "metadata": {},
   "outputs": [
    {
     "name": "stdout",
     "output_type": "stream",
     "text": [
      "[0.52, 0.52, 0.52, 0.52, 0.52, 0.53, 0.53, 0.53, 0.53, 0.53, 0.52, 0.52, 0.52, 0.52, 0.52, 0.51, 0.51, 0.51, 0.51, 0.51]\n"
     ]
    }
   ],
   "source": [
    "# Front Longitudinal Ratio\n",
    "\n",
    "LFRatio = (LFTW + CGy)/(LFTW+RFTW)\n",
    "RFRatio = (RFTW - CGy)/(LFTW+RFTW)\n",
    "#print(LFRatio, RFRatio)\n",
    "\n",
    "# Rear Longitudinal Ratio\n",
    "\n",
    "LRRatio = (LRTW + CGy)/(LRTW+RRTW)\n",
    "RRRatio = (RRTW - CGy)/(LRTW+RRTW)\n",
    "#print(LRRatio, RRRatio)\n",
    "\n",
    "# Seperate longitudinal forces based on braking or acceleration\n",
    "# can loop, but trying to use list comprehension for better programing\n",
    "Drive = [y for y in LongAccel if y > 0 for num in Fx]\n",
    "print(Drive)"
   ]
  },
  {
   "cell_type": "code",
   "execution_count": null,
   "metadata": {
    "collapsed": true
   },
   "outputs": [],
   "source": []
  }
 ],
 "metadata": {
  "kernelspec": {
   "display_name": "Python 3",
   "language": "python",
   "name": "python3"
  },
  "language_info": {
   "codemirror_mode": {
    "name": "ipython",
    "version": 3
   },
   "file_extension": ".py",
   "mimetype": "text/x-python",
   "name": "python",
   "nbconvert_exporter": "python",
   "pygments_lexer": "ipython3",
   "version": "3.6.3"
  }
 },
 "nbformat": 4,
 "nbformat_minor": 2
}
