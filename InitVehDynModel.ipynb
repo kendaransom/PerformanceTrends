{
 "cells": [
  {
   "cell_type": "markdown",
   "metadata": {},
   "source": [
    "First cut at Full Vehicle Dynamics Model for Performance Trends using equations and values from Form1.vb and FrontSuspension.m. \n",
    "\n",
    "Here are the initial assumptions:\n",
    "\n",
    "Use static values for LF, RF trackwidth\n",
    "LR & RR trackwidth is the same as LF & RF\n",
    "Use static panhard angle\n",
    "Use previous regression equation for LFIC, LFAD, LFFVSA, RFIC, RFAD, RFFVSA, LRAS, RRAS based on Pitch and Roll\n"
   ]
  },
  {
   "cell_type": "markdown",
   "metadata": {},
   "source": [
    "Vehicle Suspension Parameters"
   ]
  },
  {
   "cell_type": "code",
   "execution_count": 1,
   "metadata": {
    "collapsed": true
   },
   "outputs": [],
   "source": [
    "CGy = 5.1 #Center of Gravity y, in\n",
    "CGz = 16 #Center of Gravity z, in\n",
    "LFTW = 32.29 #LF Trackwidth, in\n",
    "RFTW = 32.25 #RF Trackwidth, in\n",
    "LRTW = LFTW #LR Trackwidth, in \n",
    "RRTW = RFTW #RR Trackwidth, in\n",
    "WB = 108 #Wheelbase, in\n",
    "P2CL = 20 #Panhard to Centerline, in\n",
    "LA2CL = 24 #Lower Arm to Centerline, in\n",
    "P2LR = LRTW - P2CL #Panhard to LR, in\n",
    "LRP = 18 #LR Panhard, in\n",
    "RWR = 13.5 #Rear Wheel Radius, in\n",
    "PAng = -3.3/57.3 #Panhard angle, converted from deg to rad\n"
   ]
  },
  {
   "cell_type": "markdown",
   "metadata": {},
   "source": [
    "Vehicle Weight Parameters"
   ]
  },
  {
   "cell_type": "code",
   "execution_count": 2,
   "metadata": {
    "collapsed": true
   },
   "outputs": [],
   "source": [
    "Nose = 50 #Nose Weight Pct, %\n",
    "Cross = 56 #Cross Weight Pct, %\n",
    "WLeft = 56 #Left Side Weight Pct, %\n",
    "WRight = (100-WLeft) #Right Side Weight Pct, %\n",
    "FBrakeBias = 75 #Front Brake Bias Pct, %\n",
    "VehWt = 2800 #Vehicle Weight, lbs\n",
    "VehM = VehWt/32.2/12 #Convert to Mass\n",
    "USLFWt = 120 #Left Front Unsprung Weight, lbs\n",
    "USLFM = USLFWt/32.2/12 #Left Front Unsprung Mass \n",
    "USRFWt = 120 #Right Front Unsprung Weight, lbs\n",
    "USRFM = USRFWt/32.2/12 #Right Front Unsprung Mass \n",
    "USRWt = 300 #Left Rear Unsprung Weight, lbs\n",
    "USRM = USRWt/32.2/12 #Rear Unsprung Mass \n",
    "LFStatic = 700 #Left Front Scale Weight, lbs\n",
    "RFStatic = 700 #Right Front Scale Weight, lbs\n",
    "LRStatic = 868 #Left Rear Scale Weight, lbs\n",
    "RRStatic = 528 #Right Rear Scale Weight, lbs\n",
    "DragCoef = .42 #Vehicle Drag Coef\n",
    "FrontArea = 21 #Vehicle Frontal Area, ft^2\n",
    "a = (Nose/100)*WB #Long dist from front axle to CG\n",
    "b = WB-a #Long dist from rear axle to CG"
   ]
  },
  {
   "cell_type": "markdown",
   "metadata": {},
   "source": [
    "Suspension Rates"
   ]
  },
  {
   "cell_type": "code",
   "execution_count": 3,
   "metadata": {
    "collapsed": true
   },
   "outputs": [],
   "source": [
    "# Tire Spring Rate\n",
    "KtLF = 1800 #Left Front Tire Spring Rate, lb/in\n",
    "KtRF = 2500 #Right Front Tire Spring Rate, lb/in\n",
    "KtLR = 1800 #Left Rear Tire Spring Rate, lb/in\n",
    "KtRR = 2500 #Right Rear Tire Spring Rate, lb/in\n",
    "\n",
    "# Wheel Rate\n",
    "KwLF = 140 #Left Front Wheel Rate, lb/in\n",
    "KwRF = 120 #Right Front Wheel Rate, lb/in\n",
    "KwLR = 125 #Left Rear Wheel Rate, lb/in\n",
    "KwRR = 110 #Right Rear Wheel Rate, lb/in\n",
    "\n",
    "# Shock Rate\n",
    "KshLF = 400 #Left Front Shock Rate, lb/in\n",
    "KshRF = 450 #Right Front Shock Rate, lb/in\n",
    "KshLR = 404 #Left Rear Shock Rate, lb/in\n",
    "KshRR = 250 #Right Rear Shock Rate, lb/in\n",
    "\n",
    "# Roll Bar Rate\n",
    "Kfarb = 250 #Front Rollbar Rate, lb/in\n",
    "Krarb = 0 #Rear Rollbar Rate, lb/in"
   ]
  },
  {
   "cell_type": "markdown",
   "metadata": {},
   "source": [
    "Circle Track Analyzer Outputs\n",
    "Dive, in\n",
    "Roll, deg\n",
    "VehLFWt, lbs\n",
    "VehRFWt, lbs\n",
    "VehLRWt, lbs\n",
    "VehRRWt, lbs\n",
    "RPM\n",
    "Torque (missing?)\n",
    "LongAccel, g's\n",
    "LatAccel, g's\n",
    "Downforce, lbs\n",
    "Speed, mph\n",
    "\n",
    "Initial test with 5 timesteps to sort code. Should be able to read this file in."
   ]
  },
  {
   "cell_type": "code",
   "execution_count": 27,
   "metadata": {
    "collapsed": true
   },
   "outputs": [],
   "source": [
    "Dive = [0.55, -0.21, -0.33, -0.42, -0.49] \n",
    "Roll = [0.42, 1.44, 1.4, 1.31, 1.23]\n",
    "VehLFWt =[355, 369, 395, 418, 455]\n",
    "VehRFWt = [986, 920, 851, 798, 764]\n",
    "VehLRWt = [856, 925, 991, 1038, 1053]\n",
    "VehRRWt = [906, 833, 751, 686, 634]\n",
    "RPM = [4316, 4509, 4879, 5251, 5616]\n",
    "LongAccel = [0, 0.52, 0.53, 0.52, 0.51]\n",
    "LatAccel = [0.89, 0.88, 0.71, 0.52, 0.37]\n",
    "Downforce = [317, 310, 246, 172, 115]\n",
    "Speed = [67, 70, 76, 82, 88]"
   ]
  },
  {
   "cell_type": "markdown",
   "metadata": {},
   "source": [
    "Perform preliminary calculations that will be used later based on Circle Track Analyzer Output\n",
    "VertAccel, g's\n",
    "Drag, lbs\n",
    "LongForce, lbs\n",
    "LatForce, lbs"
   ]
  },
  {
   "cell_type": "code",
   "execution_count": 28,
   "metadata": {},
   "outputs": [],
   "source": [
    "# Vertical Acceleration\n",
    "\n",
    "VertAccel = [Downforce[i]/VehWt for i in range(len(Downforce))]\n",
    "#print(VertAccel)\n",
    "\n",
    "# Convert Speed to ft/s\n",
    "Speed_fps = [Speed[i]/(5280/3600) for i in range(len(Speed))]\n",
    "#print(Speed_fps)\n",
    "\n",
    "# Drag\n",
    "Drag = [DragCoef*FrontArea*0.00258* Speed_fps[i]**2 for i in range(len(Speed_fps))]\n",
    "#print(Drag)\n",
    "\n",
    "# Longitudinal Force\n",
    "Fx = [(LongAccel[i]*VehWt)+Drag[i] for i in range(len(LongAccel))]\n",
    "#print(Fx)\n",
    "\n",
    "# Lateral Force\n",
    "Fy = [(LatAccel[i]*VehWt) for i in range(len(LatAccel))]\n",
    "#print(Fy)"
   ]
  },
  {
   "cell_type": "markdown",
   "metadata": {},
   "source": [
    "Calculate left front and right front instant center, anti dive and front view swing angle using previous regression coefficients. Moving forward, this should be regressed on the fly using dive and roll, or interpolated using dive.\n",
    "\n",
    "Calculate left rear and right rear anti squat percentage. Moving forward this should be regressed on the fly using the dive and roll, or interpolated using dive."
   ]
  },
  {
   "cell_type": "code",
   "execution_count": 23,
   "metadata": {},
   "outputs": [
    {
     "name": "stdout",
     "output_type": "stream",
     "text": [
      "[3.8385519, 3.91710908, 3.9029336, 3.8886875900000004, 3.87715714]\n",
      "[-2.94664118, -2.72427456, -2.63892788, -2.5605938600000004, -2.49816861]\n",
      "[22.675140329999998, 50.50147211, 52.09023983000001, 52.51180361, 52.71200701000001]\n",
      "[51.19271792999999, 51.856116990000004, 54.45464422999999, 57.11149444999999, 59.276710449999996]\n"
     ]
    }
   ],
   "source": [
    "# Left front instant center\n",
    "LFIC = [6.3733 + -1.54 * Dive[i] + 0.3317 * Roll[i] + 0.1 * Dive[i]**2 + 0.015 * Roll[i]**2 + -0.08 * Dive[i] * Roll[i]\n",
    "       for i in range(len(Dive))]\n",
    "#print(LFIC)\n",
    "\n",
    "# Left front anti dive\n",
    "LFAD = [3.7976 + -0.0116 * Dive[i] + 0.1149 * Roll[i] + -0.042 * Dive[i]**2 + -0.0135 * Roll[i]**2 + 0.0613 * Dive[i] * Roll[i]\n",
    "       for i in range(len(Dive))]\n",
    "#print(LFAD)\n",
    "\n",
    "# Left front front view swing angle\n",
    "LFFVSA = [31.0644 + -1.521 * Dive[i] + 1.1083 * Roll[i] + 0.0802 * Dive[i]**2 + 0.0222 * Roll[i]**2 + -0.1025 * Dive[i] * Roll[i]\n",
    "       for i in range(len(Dive))]\n",
    "#print(LFFVSA)\n",
    "\n",
    "# Right front instant center\n",
    "RFIC = [6.7767 + -1.625 * Dive[i] + -0.3067 * Roll[i] + 0.115 * Dive[i]**2 + 0.01 * Roll[i]**2 + 0.08 * Dive[i] * Roll[i]\n",
    "       for i in range(len(Dive))]\n",
    "#print(RFIC)\n",
    "\n",
    "# Right front anti dive\n",
    "RFAD = [-2.4693 + -0.6151 * Dive[i] + -0.2664 * Roll[i] + -0.0652 * Dive[i]**2 + -0.0032 * Roll[i]**2 + -0.0297 * Dive[i] * Roll[i]\n",
    "       for i in range(len(Dive))]\n",
    "#print(RFAD)\n",
    "\n",
    "# Right front front view swing angle\n",
    "RFFVSA = [34.5054 + -2.2535 * Dive[i] + -1.4583 * Roll[i] + 0.1298 * Dive[i]**2 + 0.0363 * Roll[i]**2 + 0.158 * Dive[i] * Roll[i]\n",
    "       for i in range(len(Dive))]\n",
    "#print(RFFVSA)\n",
    "\n",
    "# Left rear anti squat percentage\n",
    "LRAS = [28.2053 + -19.5437 * Dive[i] + 12.8093 * Roll[i] + -1.2993 * Dive[i]**2 + 0.0467 * Roll[i]**2 + 0.9687 * Dive[i] * Roll[i]\n",
    "       for i in range(len(Dive))]\n",
    "#print(LRAS)\n",
    "\n",
    "# Right rear anti squat percentage\n",
    "RRAS = [66.4164 + -16.8635 * Dive[i] + -12.7975 * Roll[i] + -1.2193 * Dive[i]**2 + 0.0487 * Roll[i]**2 + -0.9245 * Dive[i] * Roll[i]\n",
    "       for i in range(len(Dive))]\n",
    "#print(RRAS)"
   ]
  },
  {
   "cell_type": "markdown",
   "metadata": {},
   "source": [
    "Longitudinal Braking, Driving, and Jacking Forces"
   ]
  },
  {
   "cell_type": "code",
   "execution_count": 38,
   "metadata": {},
   "outputs": [
    {
     "name": "stdout",
     "output_type": "stream",
     "text": [
      "[0, 0, 0, 0, 0] [0, 0, 0, 0, 0] [27.51069468217226, 873.5349181912302, 895.124714650867, 884.7132445668778, 874.7430242082432] [19.97634021452198, 634.2998937922412, 649.976892291282, 642.4168117141141, 635.1771357917571]\n"
     ]
    }
   ],
   "source": [
    "# Front Longitudinal Ratio\n",
    "\n",
    "LFLongRatio = (LFTW + CGy)/(LFTW+RFTW)\n",
    "RFLongRatio = (RFTW - CGy)/(LFTW+RFTW)\n",
    "#print(LFRatio, RFRatio)\n",
    "\n",
    "# Rear Longitudinal Ratio\n",
    "\n",
    "LRLongRatio = (LRTW + CGy)/(LRTW+RRTW)\n",
    "RRLongRatio = (RRTW - CGy)/(LRTW+RRTW)\n",
    "#print(LRRatio, RRRatio)\n",
    "\n",
    "# Seperate longitudinal forces based on braking or acceleration\n",
    "\n",
    "#Driving\n",
    "#Drive = [Fx[i] for i in range(len(LongAccel)) if LongAccel[i] > 0 ]\n",
    "#print(Drive)\n",
    "\n",
    "#Braking\n",
    "#Brake = [Fx[i] for i in range(len(LongAccel)) if LongAccel[i] > 0 ]\n",
    "#print(Drive)\n",
    "\n",
    "LFFx = []\n",
    "RFFx = []\n",
    "LRFx = []\n",
    "RRFx = []\n",
    "\n",
    "for i in range(len(LongAccel)):\n",
    "    if LongAccel[i] >= 0: #Traction\n",
    "        LFFx.append(0)\n",
    "        RFFx.append(0)\n",
    "        LRFx.append(LRLongRatio * Fx[i])\n",
    "        RRFx.append(RRLongRatio * Fx[i])\n",
    "    else: #Braking\n",
    "        LFFx.append(LFLongRatio * Fx[i])\n",
    "        RFFx.append(RFLongRatio * Fx[i])\n",
    "        LRFx.append(LRLongRatio * Fx[i])\n",
    "        RRFx.append(RRLongRatio * Fx[i])\n",
    "print(LFFx, RFFx, LRFx, RRFx) \n",
    "\n",
    "#LF Longitudinal Jacking Force\n",
    "LFLongJack = [LFFx[i] *(LFAD[i]/100) for i in range(len(LFFx))]\n",
    "#print(LFLongJack)\n",
    "\n",
    "#RF Lonitudinal Jacking Force\n",
    "RFLongJack = [RFFx[i] *(RFAD[i]/100) for i in range(len(RFFx))]\n",
    "#print(RFLongJack)\n",
    "\n",
    "#LR Anti Squat Force\n",
    "LRLongJack = [LRFx[i] *(LRAS[i]/100) for i in range(len(LFFx))]\n",
    "#print(LRLongJack)\n",
    "\n",
    "#RR Anti Squat Force\n",
    "RRLongJack = [RRFx[i] *(RRAS[i]/100) for i in range(len(RFFx))]\n",
    "#print(RRLongJack)"
   ]
  },
  {
   "cell_type": "markdown",
   "metadata": {
    "collapsed": true
   },
   "source": [
    "Lateral Force and Lateral Jacking Force"
   ]
  },
  {
   "cell_type": "code",
   "execution_count": 34,
   "metadata": {},
   "outputs": [
    {
     "name": "stdout",
     "output_type": "stream",
     "text": [
      "[31.56857660693381, 38.36872579250705, 33.8429851145696, 26.612785617003446, 20.8399241006347] [84.09178044641294, 88.70586974559342, 67.56070240068674, 47.10660557712366, 32.46596021288065]\n"
     ]
    }
   ],
   "source": [
    "#Front Lateral Force \n",
    "Fyf = [(a/100)*Fy[i] for i in range(len(Fy))]\n",
    "#print(Fyf)\n",
    "\n",
    "#Rear Lateral Force \n",
    "Fyr = [Fy[i]-Fyf[i] for i in range(len(Fy))]\n",
    "#print(Fyr)\n",
    "\n",
    "#Front Lateral Ratio\n",
    "LFLatRatio = [VehLFWt[i]/VehWt for i in range(len(VehLFWt))]\n",
    "RFLatRatio = [VehRFWt[i]/VehWt for i in range(len(VehRFWt))]\n",
    "\n",
    "#Rear Lateral Ratio\n",
    "LRLatRatio = [VehLRWt[i]/VehWt for i in range(len(VehLRWt))]\n",
    "RRLatRatio = [VehRRWt[i]/VehWt for i in range(len(VehRRWt))]\n",
    "#print(LFLatRatio, RFLatRatio, LRLatRatio, RRLatRatio)\n",
    "\n",
    "#LF Lateral Force\n",
    "LFFy = [LFLatRatio[i]*Fyf[i] for i in range(len(LFLatRatio))]\n",
    "\n",
    "#RF Lateral Force\n",
    "RFFy = [RFLatRatio[i]*Fyf[i] for i in range(len(RFLatRatio))]\n",
    "#print(LFFy, RFFy)\n",
    "\n",
    "#LF Lateral Jacking Force\n",
    "LFLatJack = [(LFIC[i]/LFFVSA[i])*LFFy[i] for i in range(len(LFIC))]\n",
    "\n",
    "#RF Lat Force\n",
    "RFLatJack = [(RFIC[i]/RFFVSA[i])*RFFy[i] for i in range(len(RFIC))]\n",
    "#print(LFLatJack, RFLatJack)"
   ]
  },
  {
   "cell_type": "markdown",
   "metadata": {},
   "source": [
    "Rear lateral forces and jacking forces manifest themselves in the sum of the moments around the LR Instant Center and RR Instant Center. The sum of the moments and the rear wheel radius are used to calculate the lateral affect on the LRFz and RRFz forces."
   ]
  },
  {
   "cell_type": "code",
   "execution_count": 42,
   "metadata": {},
   "outputs": [
    {
     "name": "stdout",
     "output_type": "stream",
     "text": [
      "[-259.45101041908174, 163.59464696375807, 239.55278787884288, 296.5600740636756, 339.6156517922287] [342.0045748377005, 671.8951095358655, 633.4567385411128, 573.5884593915134, 525.5197341134528]\n"
     ]
    }
   ],
   "source": [
    "import math as m\n",
    "\n",
    "#LR Instant Center\n",
    "P2A = RWR-LRP\n",
    "LRIC = RWR-P2A- (P2LR*m.tan(PAng))\n",
    "\n",
    "#RR Instant Center\n",
    "RRIC = ((LRTW+RRTW)*m.tan(PAng))+LRIC\n",
    "#print(LRIC, RRIC)\n",
    "\n",
    "#Sum moments around RR wheel radius to solve for LRFz\n",
    "LRFz = [((LRLongJack[i]*(LRTW+LA2CL)) - (Fyr[i]*RRIC) + (RRLongJack[i]*(RRTW-LA2CL)))/(LRTW+RRTW)\n",
    "       for i in range(len(Fyr))]\n",
    "\n",
    "#Sum moments around LR wheel radius to solve for RRFz\n",
    "RRFz = [((LRLongJack[i]*(LRTW-LA2CL)) + (Fyr[i]*LRIC) + (RRLongJack[i]*(RRTW+LA2CL)))/(LRTW+RRTW)\n",
    "       for i in range(len(Fyr))]\n",
    "#print(LRFz, RRFz)"
   ]
  },
  {
   "cell_type": "markdown",
   "metadata": {},
   "source": [
    "Solve for aerodynamic forces"
   ]
  },
  {
   "cell_type": "code",
   "execution_count": 43,
   "metadata": {},
   "outputs": [
    {
     "name": "stdout",
     "output_type": "stream",
     "text": [
      "[91.82390765416798, 89.7962503873567, 71.257669662225, 49.82243569879146, 33.31151224047103] [66.67609234583205, 65.20374961264332, 51.74233033777503, 36.177564301208555, 24.188487759528975] [91.82390765416798, 89.7962503873567, 71.257669662225, 49.82243569879146, 33.31151224047103] [66.67609234583205, 65.20374961264332, 51.74233033777503, 36.177564301208555, 24.188487759528975]\n"
     ]
    }
   ],
   "source": [
    "# Aerodynamic forces\n",
    "\n",
    "LFAero = [(Downforce[i]*LFLongRatio)/2 for i in range(len(Downforce))]\n",
    "RFAero = [(Downforce[i]*RFLongRatio)/2 for i in range(len(Downforce))]\n",
    "LRAero = [(Downforce[i]*LRLongRatio)/2 for i in range(len(Downforce))]\n",
    "RRAero = [(Downforce[i]*RRLongRatio)/2 for i in range(len(Downforce))]\n",
    "print(LFAero, RFAero, LRAero, RRAero)"
   ]
  },
  {
   "cell_type": "markdown",
   "metadata": {},
   "source": [
    "Create Spring Matrix for [F] = [k] * [x] size of spring matrix is K(6,6)"
   ]
  }
 ],
 "metadata": {
  "kernelspec": {
   "display_name": "Python 3",
   "language": "python",
   "name": "python3"
  },
  "language_info": {
   "codemirror_mode": {
    "name": "ipython",
    "version": 3
   },
   "file_extension": ".py",
   "mimetype": "text/x-python",
   "name": "python",
   "nbconvert_exporter": "python",
   "pygments_lexer": "ipython3",
   "version": "3.6.3"
  }
 },
 "nbformat": 4,
 "nbformat_minor": 2
}
