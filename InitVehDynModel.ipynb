{
 "cells": [
  {
   "cell_type": "markdown",
   "metadata": {},
   "source": [
    "First cut at Full Vehicle Dynamics Model for Performance Trends using equations and values from Form1.vb and FrontSuspension.m. \n",
    "\n",
    "Here are the initial assumptions:\n",
    "\n",
    "Use static values for LF, RF trackwidth\n",
    "LR & RR trackwidth is the same as LF & RF\n",
    "Use static panhard angle\n",
    "Use previous regression equation for LFIC, LFAD, LFFVSA, RFIC, RFAD, RFFVSA, LRAS, RRAS based on Pitch and Roll\n"
   ]
  },
  {
   "cell_type": "markdown",
   "metadata": {},
   "source": [
    "Vehicle Suspension Parameters"
   ]
  },
  {
   "cell_type": "code",
   "execution_count": 1,
   "metadata": {
    "collapsed": true
   },
   "outputs": [],
   "source": [
    "CGy = 5.1 #Center of Gravity y, in\n",
    "CGz = 16 #Center of Gravity z, in\n",
    "LFTW = 32.29 #LF Trackwidth, in\n",
    "RFTW = 32.25 #RF Trackwidth, in\n",
    "LRTW = LFTW #LR Trackwidth, in \n",
    "RRTW = RFTW #RR Trackwidth, in\n",
    "WB = 108 #Wheelbase, in\n",
    "P2CL = 20 #Panhard to Centerline, in\n",
    "LA2CL = 24 #Lower Arm to Centerline, in\n",
    "P2LR = LRTW - P2CL #Panhard to LR, in\n",
    "LRP = 18 #LR Panhard, in\n",
    "RWR = 13.5 #Rear Wheel Radius, in\n",
    "PAng = -3.3/57.3 #Panhard angle, converted from deg to rad\n"
   ]
  },
  {
   "cell_type": "markdown",
   "metadata": {},
   "source": [
    "Vehicle Weight Parameters"
   ]
  },
  {
   "cell_type": "code",
   "execution_count": 2,
   "metadata": {
    "collapsed": true
   },
   "outputs": [],
   "source": [
    "Nose = 50 #Nose Weight Pct, %\n",
    "Cross = 56 #Cross Weight Pct, %\n",
    "WLeft = 56 #Left Side Weight Pct, %\n",
    "WRight = (100-WLeft) #Right Side Weight Pct, %\n",
    "FBrakeBias = 75 #Front Brake Bias Pct, %\n",
    "VehWt = 2800 #Vehicle Weight, lbs\n",
    "USLFWt = 120 #Left Front Unsprung Weight, lbs\n",
    "USRFWt = 120 #Right Front Unsprung Weight, lbs \n",
    "USRWt = 300 #Left Rear Unsprung Weight, lbs\n",
    "LFStatic = 700 #Left Front Scale Weight, lbs\n",
    "RFStatic = 700 #Right Front Scale Weight, lbs\n",
    "LRStatic = 868 #Left Rear Scale Weight, lbs\n",
    "RRStatic = 528 #Right Rear Scale Weight, lbs\n",
    "DragCoef = .42 #Vehicle Drag Coef\n",
    "FrontArea = 21 #Vehicle Frontal Area, ft^2\n",
    "a = (Nose/100)*WB #Long dist from front axle to CG\n",
    "b = WB-a #Long dist from rear axle to CG"
   ]
  },
  {
   "cell_type": "markdown",
   "metadata": {},
   "source": [
    "Suspension Rates"
   ]
  },
  {
   "cell_type": "code",
   "execution_count": 3,
   "metadata": {
    "collapsed": true
   },
   "outputs": [],
   "source": [
    "# Tire Spring Rate\n",
    "KtLF = 1800 #Left Front Tire Spring Rate, lb/in\n",
    "KtRF = 2500 #Right Front Tire Spring Rate, lb/in\n",
    "KtLR = 1800 #Left Rear Tire Spring Rate, lb/in\n",
    "KtRR = 2500 #Right Rear Tire Spring Rate, lb/in\n",
    "\n",
    "# Wheel Rate\n",
    "KwLF = 207 #Left Front Wheel Rate, lb/in\n",
    "KwRF = 185 #Right Front Wheel Rate, lb/in\n",
    "KwLR = 183 #Left Rear Wheel Rate, lb/in\n",
    "KwRR = 160 #Right Rear Wheel Rate, lb/in\n",
    "\n",
    "# Shock Rate\n",
    "KshLF = 400 #Left Front Shock Rate, lb/in\n",
    "KshRF = 450 #Right Front Shock Rate, lb/in\n",
    "KshLR = 400 #Left Rear Shock Rate, lb/in\n",
    "KshRR = 450 #Right Rear Shock Rate, lb/in\n",
    "\n",
    "# Roll Bar Rate\n",
    "Kfarb = 250 #Front Rollbar Rate, lb/in\n",
    "Krarb = 0 #Rear Rollbar Rate, lb/in\n",
    "\n",
    "# Suspension Rate\n",
    "KsLF = KshLF + KwLF + (Kfarb/2)\n",
    "KsRF = KshRF + KwRF - (Kfarb/2)\n",
    "KsLR = KshLR + KwLR + (Krarb/2)\n",
    "KsRR = KshRR + KwRR - (Kfarb/2)"
   ]
  },
  {
   "cell_type": "markdown",
   "metadata": {},
   "source": [
    "Circle Track Analyzer Outputs\n",
    "Dive, in\n",
    "Roll, deg\n",
    "VehLFWt, lbs\n",
    "VehRFWt, lbs\n",
    "VehLRWt, lbs\n",
    "VehRRWt, lbs\n",
    "RPM\n",
    "Torque (missing?)\n",
    "LongAccel, g's\n",
    "LatAccel, g's\n",
    "Downforce, lbs\n",
    "Speed, mph\n",
    "\n",
    "Initial test with 5 timesteps to sort code. Should be able to read this file in."
   ]
  },
  {
   "cell_type": "code",
   "execution_count": 4,
   "metadata": {
    "collapsed": true
   },
   "outputs": [],
   "source": [
    "Dive = [0.55, -0.21, -0.33, -0.42, -0.49] \n",
    "Roll = [0.42, 1.44, 1.4, 1.31, 1.23]\n",
    "VehLFWt =[355, 369, 395, 418, 455]\n",
    "VehRFWt = [986, 920, 851, 798, 764]\n",
    "VehLRWt = [856, 925, 991, 1038, 1053]\n",
    "VehRRWt = [906, 833, 751, 686, 634]\n",
    "RPM = [4316, 4509, 4879, 5251, 5616]\n",
    "LongAccel = [0, 0.52, 0.53, 0.52, 0.51]\n",
    "LatAccel = [0.89, 0.88, 0.71, 0.52, 0.37]\n",
    "Downforce = [317, 310, 246, 172, 115]\n",
    "Speed = [67, 70, 76, 82, 88]"
   ]
  },
  {
   "cell_type": "markdown",
   "metadata": {},
   "source": [
    "Perform preliminary calculations that will be used later based on Circle Track Analyzer Output\n",
    "VertAccel, g's\n",
    "Drag, lbs\n",
    "LongForce, lbs\n",
    "LatForce, lbs"
   ]
  },
  {
   "cell_type": "code",
   "execution_count": 5,
   "metadata": {},
   "outputs": [],
   "source": [
    "# Vertical Acceleration\n",
    "\n",
    "VertAccel = [Downforce[i]/VehWt for i in range(len(Downforce))]\n",
    "#print(VertAccel)\n",
    "\n",
    "# Convert Speed to ft/s\n",
    "Speed_fps = [Speed[i]/(5280/3600) for i in range(len(Speed))]\n",
    "#print(Speed_fps)\n",
    "\n",
    "# Drag\n",
    "Drag = [DragCoef*FrontArea*0.00258* Speed_fps[i]**2 for i in range(len(Speed_fps))]\n",
    "#print(Drag)\n",
    "\n",
    "# Longitudinal Force\n",
    "Fx = [(LongAccel[i]*VehWt)+Drag[i] for i in range(len(LongAccel))]\n",
    "#print(Fx)\n",
    "\n",
    "# Lateral Force\n",
    "Fy = [(LatAccel[i]*VehWt) for i in range(len(LatAccel))]\n",
    "#print(Fy)"
   ]
  },
  {
   "cell_type": "markdown",
   "metadata": {},
   "source": [
    "Calculate left front and right front instant center, anti dive and front view swing angle using previous regression coefficients. Moving forward, this should be regressed on the fly using dive and roll, or interpolated using dive.\n",
    "\n",
    "Calculate left rear and right rear anti squat percentage. Moving forward this should be regressed on the fly using the dive and roll, or interpolated using dive."
   ]
  },
  {
   "cell_type": "code",
   "execution_count": 6,
   "metadata": {
    "collapsed": true
   },
   "outputs": [],
   "source": [
    "# Left front instant center\n",
    "LFIC = [6.3733 + -1.54 * Dive[i] + 0.3317 * Roll[i] + 0.1 * Dive[i]**2 + 0.015 * Roll[i]**2 + -0.08 * Dive[i] * Roll[i]\n",
    "       for i in range(len(Dive))]\n",
    "#print(LFIC)\n",
    "\n",
    "# Left front anti dive\n",
    "LFAD = [3.7976 + -0.0116 * Dive[i] + 0.1149 * Roll[i] + -0.042 * Dive[i]**2 + -0.0135 * Roll[i]**2 + 0.0613 * Dive[i] * Roll[i]\n",
    "       for i in range(len(Dive))]\n",
    "#print(LFAD)\n",
    "\n",
    "# Left front front view swing angle\n",
    "LFFVSA = [31.0644 + -1.521 * Dive[i] + 1.1083 * Roll[i] + 0.0802 * Dive[i]**2 + 0.0222 * Roll[i]**2 + -0.1025 * Dive[i] * Roll[i]\n",
    "       for i in range(len(Dive))]\n",
    "#print(LFFVSA)\n",
    "\n",
    "# Right front instant center\n",
    "RFIC = [6.7767 + -1.625 * Dive[i] + -0.3067 * Roll[i] + 0.115 * Dive[i]**2 + 0.01 * Roll[i]**2 + 0.08 * Dive[i] * Roll[i]\n",
    "       for i in range(len(Dive))]\n",
    "#print(RFIC)\n",
    "\n",
    "# Right front anti dive\n",
    "RFAD = [-2.4693 + -0.6151 * Dive[i] + -0.2664 * Roll[i] + -0.0652 * Dive[i]**2 + -0.0032 * Roll[i]**2 + -0.0297 * Dive[i] * Roll[i]\n",
    "       for i in range(len(Dive))]\n",
    "#print(RFAD)\n",
    "\n",
    "# Right front front view swing angle\n",
    "RFFVSA = [34.5054 + -2.2535 * Dive[i] + -1.4583 * Roll[i] + 0.1298 * Dive[i]**2 + 0.0363 * Roll[i]**2 + 0.158 * Dive[i] * Roll[i]\n",
    "       for i in range(len(Dive))]\n",
    "#print(RFFVSA)\n",
    "\n",
    "# Left rear anti squat percentage\n",
    "LRAS = [28.2053 + -19.5437 * Dive[i] + 12.8093 * Roll[i] + -1.2993 * Dive[i]**2 + 0.0467 * Roll[i]**2 + 0.9687 * Dive[i] * Roll[i]\n",
    "       for i in range(len(Dive))]\n",
    "#print(LRAS)\n",
    "\n",
    "# Right rear anti squat percentage\n",
    "RRAS = [66.4164 + -16.8635 * Dive[i] + -12.7975 * Roll[i] + -1.2193 * Dive[i]**2 + 0.0487 * Roll[i]**2 + -0.9245 * Dive[i] * Roll[i]\n",
    "       for i in range(len(Dive))]\n",
    "#print(RRAS)"
   ]
  },
  {
   "cell_type": "markdown",
   "metadata": {},
   "source": [
    "Longitudinal Braking, Driving, and Jacking Forces"
   ]
  },
  {
   "cell_type": "code",
   "execution_count": 34,
   "metadata": {},
   "outputs": [],
   "source": [
    "# Front Longitudinal Ratio\n",
    "\n",
    "LFLongRatio = (LFTW + CGy)/(LFTW+RFTW)\n",
    "RFLongRatio = (RFTW - CGy)/(LFTW+RFTW)\n",
    "#print(LFRatio, RFRatio)\n",
    "\n",
    "# Rear Longitudinal Ratio\n",
    "\n",
    "LRLongRatio = (LRTW + CGy)/(LRTW+RRTW)\n",
    "RRLongRatio = (RRTW - CGy)/(LRTW+RRTW)\n",
    "#print(LRRatio, RRRatio)\n",
    "\n",
    "# Seperate longitudinal forces based on braking or acceleration\n",
    "\n",
    "#Driving\n",
    "#Drive = [Fx[i] for i in range(len(LongAccel)) if LongAccel[i] > 0 ]\n",
    "#print(Drive)\n",
    "\n",
    "#Braking\n",
    "#Brake = [Fx[i] for i in range(len(LongAccel)) if LongAccel[i] > 0 ]\n",
    "#print(Drive)\n",
    "\n",
    "LFFx = []\n",
    "RFFx = []\n",
    "LRFx = []\n",
    "RRFx = []\n",
    "\n",
    "for i in range(len(LongAccel)):\n",
    "    if LongAccel[i] >= 0: #Traction\n",
    "        LFFx.append(0)\n",
    "        RFFx.append(0)\n",
    "        LRFx.append(LRLongRatio * Fx[i])\n",
    "        RRFx.append(RRLongRatio * Fx[i])\n",
    "    else: #Braking\n",
    "        LFFx.append(LFLongRatio * Fx[i])\n",
    "        RFFx.append(RFLongRatio * Fx[i])\n",
    "        LRFx.append(LRLongRatio * Fx[i])\n",
    "        RRFx.append(RRLongRatio * Fx[i])\n",
    "#print(LFFx, RFFx, LRFx, RRFx) \n",
    "\n",
    "#LF Longitudinal Jacking Force\n",
    "LFLongJack = [LFFx[i] *(FBrakeBias/100) * (LFAD[i]/100) for i in range(len(LFFx))]\n",
    "#print(LFLongJack)\n",
    "\n",
    "#RF Lonitudinal Jacking Force\n",
    "RFLongJack = [RFFx[i] *(FBrakeBias/100)*(RFAD[i]/100) for i in range(len(RFFx))]\n",
    "#print(RFLongJack)\n",
    "\n",
    "#LR Anti Squat Force\n",
    "LRLongJack = [LRFx[i] *(LRAS[i]/100) for i in range(len(LRFx))]\n",
    "#print(LRLongJack)\n",
    "\n",
    "#RR Anti Squat Force\n",
    "RRLongJack = [RRFx[i] *(RRAS[i]/100) for i in range(len(RRFx))]\n",
    "#print(RRLongJack)"
   ]
  },
  {
   "cell_type": "markdown",
   "metadata": {
    "collapsed": true
   },
   "source": [
    "Lateral Force and Lateral Jacking Force"
   ]
  },
  {
   "cell_type": "code",
   "execution_count": 35,
   "metadata": {
    "collapsed": true
   },
   "outputs": [],
   "source": [
    "#Front Lateral Force \n",
    "Fyf = [(a/100)*Fy[i] for i in range(len(Fy))]\n",
    "#print(Fyf)\n",
    "\n",
    "#Rear Lateral Force \n",
    "Fyr = [Fy[i]-Fyf[i] for i in range(len(Fy))]\n",
    "#print(Fyr)\n",
    "\n",
    "#Front Lateral Ratio\n",
    "LFLatRatio = [VehLFWt[i]/VehWt for i in range(len(VehLFWt))]\n",
    "RFLatRatio = [VehRFWt[i]/VehWt for i in range(len(VehRFWt))]\n",
    "\n",
    "#Rear Lateral Ratio\n",
    "LRLatRatio = [VehLRWt[i]/VehWt for i in range(len(VehLRWt))]\n",
    "RRLatRatio = [VehRRWt[i]/VehWt for i in range(len(VehRRWt))]\n",
    "#print(LFLatRatio, RFLatRatio, LRLatRatio, RRLatRatio)\n",
    "\n",
    "#LF Lateral Force\n",
    "LFFy = [LFLatRatio[i]*Fyf[i] for i in range(len(LFLatRatio))]\n",
    "\n",
    "#RF Lateral Force\n",
    "RFFy = [RFLatRatio[i]*Fyf[i] for i in range(len(RFLatRatio))]\n",
    "#print(LFFy, RFFy)\n",
    "\n",
    "#LF Lateral Jacking Force\n",
    "LFLatJack = [(LFIC[i]/LFFVSA[i])*LFFy[i] for i in range(len(LFIC))]\n",
    "\n",
    "#RF Lat Force\n",
    "RFLatJack = [(RFIC[i]/RFFVSA[i])*RFFy[i] for i in range(len(RFIC))]\n",
    "#print(LFLatJack, RFLatJack)"
   ]
  },
  {
   "cell_type": "markdown",
   "metadata": {},
   "source": [
    "Rear lateral forces and jacking forces manifest themselves in the sum of the moments around the LR Instant Center and RR Instant Center. The sum of the moments and the rear wheel radius are used to calculate the lateral affect on the LRFz and RRFz forces."
   ]
  },
  {
   "cell_type": "code",
   "execution_count": 36,
   "metadata": {},
   "outputs": [],
   "source": [
    "import math as m\n",
    "\n",
    "#LR Instant Center\n",
    "P2A = RWR-LRP\n",
    "LRIC = RWR-P2A- (P2LR*m.tan(PAng))\n",
    "\n",
    "#RR Instant Center\n",
    "RRIC = ((LRTW+RRTW)*m.tan(PAng))+LRIC\n",
    "#print(LRIC, RRIC)\n",
    "\n",
    "#Sum moments around RR wheel radius to solve for LRFz\n",
    "LRFz = [((LRLongJack[i]*(LRTW+LA2CL)) - (Fyr[i]*RRIC) + (RRLongJack[i]*(RRTW-LA2CL)))/(LRTW+RRTW)\n",
    "       for i in range(len(Fyr))]\n",
    "\n",
    "#Sum moments around LR wheel radius to solve for RRFz\n",
    "RRFz = [((LRLongJack[i]*(LRTW-LA2CL)) + (Fyr[i]*LRIC) + (RRLongJack[i]*(RRTW+LA2CL)))/(LRTW+RRTW)\n",
    "       for i in range(len(Fyr))]\n",
    "#print(LRFz, RRFz)"
   ]
  },
  {
   "cell_type": "markdown",
   "metadata": {},
   "source": [
    "Solve for aerodynamic forces"
   ]
  },
  {
   "cell_type": "code",
   "execution_count": 37,
   "metadata": {},
   "outputs": [],
   "source": [
    "# Aerodynamic forces\n",
    "\n",
    "LFAero = [(Downforce[i]*LFLongRatio)/2 for i in range(len(Downforce))]\n",
    "RFAero = [(Downforce[i]*RFLongRatio)/2 for i in range(len(Downforce))]\n",
    "LRAero = [(Downforce[i]*LRLongRatio)/2 for i in range(len(Downforce))]\n",
    "RRAero = [(Downforce[i]*RRLongRatio)/2 for i in range(len(Downforce))]\n",
    "#print(LFAero, RFAero, LRAero, RRAero)"
   ]
  },
  {
   "cell_type": "markdown",
   "metadata": {},
   "source": [
    "Create Spring & Force Matrix for [F] = [k] * [x] size of spring matrix is K(6,6)"
   ]
  },
  {
   "cell_type": "code",
   "execution_count": 38,
   "metadata": {},
   "outputs": [],
   "source": [
    "import numpy as np\n",
    "\n",
    "K = np.zeros([7,7])\n",
    "\n",
    "K[0,0] = -(-KtLF - KsLF - Kfarb)\n",
    "K[0,1] = -Kfarb\n",
    "K[0,4] = -KsLF\n",
    "K[0,5] = -a*KsLF\n",
    "K[0,6] = -(LFTW * KsLF + (LFTW +RFTW)*Kfarb)\n",
    "\n",
    "K[1,0] = -(Kfarb)\n",
    "K[1,1] = -(-KtRF - KsRF - Kfarb)\n",
    "K[1,4] = -KsRF\n",
    "K[1,5] = -a*KsRF\n",
    "K[1,6] = -(RFTW * KsRF + (LFTW +RFTW)*Kfarb)\n",
    "\n",
    "K[2,2] = -(-KtLR - KsLR - KtRR - KsRR)\n",
    "K[2,3] = -(-LRTW*(KtLR+KsLR) + (RRTW*(KtRR+KsRR)))\n",
    "K[2,4] = -(KsLR+KsRR)\n",
    "K[2,5] = -(-b*KsLR-b*KsRR)\n",
    "K[2,6] = -(LRTW * KsLR - RRTW * KsRR)\n",
    "\n",
    "K[3,2] = -(-LRTW*KtLR-LRTW*KsLR - (-RRTW *KtRR) - (-RRTW*KsRR))\n",
    "K[3,3] = -(-LRTW*LRTW*(KtLR+KsLR) - (RRTW*(RRTW)*(KtRR+KsRR)) - ((LRTW+RRTW)*(LRTW+RRTW)*Krarb))\n",
    "K[3,4] = -(LRTW*KsLR + (-RRTW) * KsRR)\n",
    "K[3,5] = -(-b*LRTW * KsLR - b * (-RRTW) * KsRR)\n",
    "K[3,6] = -(LRTW*LRTW*KsLR + RRTW*(RRTW)*KsRR + ((LRTW+RRTW)*(LRTW+RRTW)*Krarb))\n",
    "\n",
    "K[4,0] = -(KsLF)\n",
    "K[4,1] = -(KsRF)\n",
    "K[4,2] = -(KsLR + KsRR)\n",
    "K[4,3] = -(LRTW * KsLR - RRTW * KsRR)\n",
    "K[4,4] = -(-KsLF - KsRF - KsLR - KsRR)\n",
    "K[4,5] = -(-a*(KsLF+KsRF) + b *(KsLR +KsRR))\n",
    "K[4,6] = -(-LFTW*(KsLF) + RFTW*(KsRF) - LRTW*(KsLR) + RRTW *(KsRR))\n",
    "\n",
    "K[5,0] = -(a*KsLF)\n",
    "K[5,1] = -(a*KsRF)\n",
    "K[5,2] = -(-b*(KsLR + KsRR))\n",
    "K[5,3] = -((-b*LRTW) * KsLR + (b*RRTW) * KsRR)\n",
    "K[5,4] = -(-a*(KsLF + KsRF) + b*(KsLR - KsRR))\n",
    "K[5,5] = -((-a*a)*(KsLF+KsRF) + (-b*b) *(KsLR +KsRR))\n",
    "K[5,6] = -((-a*LFTW*(KsLF)) + (a*RFTW*(KsRF)) + (b*LRTW*(KsLR)) + (-b*RRTW *(KsRR)))\n",
    "\n",
    "K[6,0] = -(LFTW * (KsLF) + (LFTW+RFTW)*Kfarb)\n",
    "K[6,1] = -(-RFTW * (KsRF) - (LFTW+RFTW)*Kfarb)\n",
    "K[6,2] = -(LRTW*KsLR - RRTW * KsRR)\n",
    "K[6,3] = -((LRTW*LRTW) * KsLR + (RRTW*RRTW) * KsRR + (LRTW+RRTW)*Krarb)\n",
    "K[6,4] = -(-LFTW*(KsLF) + RFTW *(KsRF) - LRTW*(KsLR) + RRTW * (KsRR))\n",
    "K[6,5] = -((-a*LFTW*(KsLF)) +(a*RFTW*(KsRF)) + (b*LRTW*(KsLR)) + ((-b*RRTW)*(KsRR)))\n",
    "K[6,6] = -(((-LFTW*LFTW)*(KsLF)) - ((RFTW*RFTW)*(KsRF)) - ((LRTW*LRTW)*(KsLR)) - ((RRTW*RRTW)*(KsRR)) - ((LFTW+RFTW)*(LFTW+RFTW)*Kfarb) - ((LRTW+RRTW)*(LRTW+RRTW)*Krarb))\n",
    "#print(K)\n",
    "\n",
    "\n",
    "f = [0] *7\n",
    "f[0] = [(VertAccel[i] * USLFWt + (LFLatJack[i] + LFLongJack[i])) for i in range(len(VertAccel))]\n",
    "f[1] = [(VertAccel[i] * USRFWt + (RFLatJack[i] + RFLongJack[i])) for i in range(len(VertAccel))]\n",
    "f[2] = [(VertAccel[i] * USRWt + (LRFz[i] + RRFz[i])) for i in range(len(VertAccel))]\n",
    "f[3] = [(LatAccel[i] * USRWt *13.5) for i in range(len(VertAccel))]\n",
    "f[4] = [(VertAccel[i] * VehWt - (LFLatJack[i] + LFLongJack[i]+ RFLatJack[i] + RFLongJack[i] + LRFz[i] +RRFz[i]) + (LFAero[i]+RFAero[i]+LRAero[i]+RRAero[i])) for i in range(len(VertAccel))]\n",
    "f[5] = [(LongAccel[i] * VehWt *CGz + (LRAero[i] +RRAero[i]) * b-(LFAero[i]+RFAero[i]) * a + (LRFz[i]+RRFz[i]) *b - (LFLatJack[i]+LFLongJack[i] + RFLatJack[i] +RFLongJack[i])*a) for i in range(len(LongAccel))]\n",
    "f[6] = [(LatAccel[i] * VehWt * CGz + (RFAero[i] + RRAero[i]) * ((LFTW+RFTW) / 2) - (LFAero[i] + LRAero[i]) * ((LFTW+RFTW)  / 2) + (RFLatJack[i] + RFLongJack[i] + RRFz[i]) * ((LFTW+RFTW) / 2) - (LFLatJack[i] + LFLongJack[i] + LRFz[i]) * ((LFTW+RFTW) / 2)) for i in range(len(LatAccel))]\n",
    "#print(f)"
   ]
  },
  {
   "cell_type": "markdown",
   "metadata": {},
   "source": [
    "The next cell below isn't used. Trying to validate the math on the inverse K matrix."
   ]
  },
  {
   "cell_type": "code",
   "execution_count": 12,
   "metadata": {
    "collapsed": true
   },
   "outputs": [],
   "source": [
    "def ComputeCoefficients(K,F,N,M,M1,I,J):\n",
    "    N = 7\n",
    "    for M in range(7):\n",
    "        M1 = M+1\n",
    "        for I in range(M, 6):\n",
    "            if K[I, M] != 0:\n",
    "                for J in range(M1,6):\n",
    "                    K[I,J] /= K[I,M]\n",
    "                F[I] /= K[I,M]\n",
    "        for I in range(M1,6):\n",
    "            if K[I,M] != 0:\n",
    "                for J in range(M1,6):\n",
    "                    K[I,J] -= K[M,J]\n",
    "                F[I] -=F[M]\n",
    "    for I in range(N-2, 0, -1):\n",
    "        for J in range(N-1,I+1, -1):\n",
    "            F[I] -= K[I,J] * F[J]\n",
    "    return (N,M,M1,I,J,F)"
   ]
  },
  {
   "cell_type": "markdown",
   "metadata": {},
   "source": [
    "Loop through each F with K matrix. X = inv(K)*F "
   ]
  },
  {
   "cell_type": "code",
   "execution_count": 39,
   "metadata": {},
   "outputs": [],
   "source": [
    "\n",
    "\n",
    "F = [0] *7\n",
    "for i in range(len(VertAccel)):\n",
    "    F[0] = f[0][i]\n",
    "    F[1] = f[1][i]\n",
    "    F[2] = f[2][i]\n",
    "    F[3] = f[3][i]\n",
    "    F[4] = f[4][i]\n",
    "    F[5] = f[5][i]\n",
    "    F[6] = f[6][i]\n",
    "    \n",
    "    kinv = np.linalg.inv(K)\n",
    "    #print(kinv)\n",
    "    X = -kinv*F\n",
    "    #print(X)\n",
    "    \n",
    "    #Front Displacement\n",
    "    LFDisp = [X[0][i] for i in range(len(X))]\n",
    "    RFDisp = [X[1][i] for i in range(len(X))]\n",
    "    \n",
    "    # Rear Dispalcement \n",
    "    LRDisp = [X[2][i] - (LRTW*X[3][i]) for i in range(len(X))]\n",
    "    RRDisp = [X[2][i] + (LRTW*X[3][i]) for i in range(len(X))]\n",
    "    \n",
    "    \n",
    "    # Wheel loads\n",
    "    LFFz = [LFStatic + (KsLF * X[0][i]) for i in range(len(X))]\n",
    "    RFFz = [RFStatic + (KsRF * X[1][i]) for i in range(len(X))]\n",
    "    LRFz = [LRStatic + (KsLR * LRDisp[i]) for i in range(len(X))]\n",
    "    RRFz = [LRStatic + (KsRR * RRDisp[i]) for i in range(len(X))]\n",
    "    \n",
    "    load = {\"LFFz\":LFFz,\n",
    "            \"RFFz\":RFFz,\n",
    "            \"LRFz\":LRFz,\n",
    "            \"RRFz\":RRFz}\n",
    "disp = {\"LFDisp\":LFDisp,\n",
    "            \"RFDisp\":RFDisp,\n",
    "            \"LRDisp\":LRDisp,\n",
    "            \"RRDisp\":RRDisp}    \n"
   ]
  },
  {
   "cell_type": "markdown",
   "metadata": {},
   "source": [
    "Write out text file"
   ]
  },
  {
   "cell_type": "code",
   "execution_count": 40,
   "metadata": {},
   "outputs": [],
   "source": [
    "import csv\n",
    "\n",
    "with open(\"LoadDisp.csv\",\"w\", newline=\"\") as new:\n",
    "    \n",
    "    writer = csv.writer(new)\n",
    "    writer.writerows(load.items())\n",
    "    writer.writerows(disp.items())"
   ]
  },
  {
   "cell_type": "markdown",
   "metadata": {},
   "source": [
    "Create some plots of displacement and wheel load"
   ]
  },
  {
   "cell_type": "code",
   "execution_count": 41,
   "metadata": {},
   "outputs": [
    {
     "data": {
      "image/png": "[encoded data removed]",
      "text/plain": [
       "<matplotlib.figure.Figure at 0xc0aaaf0>"
      ]
     },
     "metadata": {},
     "output_type": "display_data"
    },
    {
     "data": {
      "image/png": "[encoded data removed]",
      "text/plain": [
       "<matplotlib.figure.Figure at 0xc1ac110>"
      ]
     },
     "metadata": {},
     "output_type": "display_data"
    }
   ],
   "source": [
    "import matplotlib.pyplot as plt\n",
    "\n",
    "# LF Displacement\n",
    "plt.figure(1)\n",
    "plt.subplot(221)\n",
    "plt.plot(LFDisp)\n",
    "plt.ylabel('LF Displacement')\n",
    "\n",
    "\n",
    "# RF Displacement\n",
    "plt.subplot(222)\n",
    "plt.plot(RFDisp)\n",
    "plt.ylabel('RF Displacement')\n",
    "\n",
    "\n",
    "# LR Displacement\n",
    "plt.subplot(223)\n",
    "plt.plot(LRDisp)\n",
    "plt.ylabel('LR Displacement')\n",
    "\n",
    "\n",
    "# RR Displacement\n",
    "plt.subplot(224)\n",
    "plt.plot(RRDisp)\n",
    "plt.ylabel('RR Displacement')\n",
    "\n",
    "plt.subplots_adjust(top=0.92, bottom=0.08, left=0.10, right=0.95, hspace=0.25,\n",
    "                    wspace=0.35)\n",
    "plt.show()\n",
    "\n",
    "# LF Load\n",
    "plt.figure(2)\n",
    "plt.subplot(221)\n",
    "plt.plot(LFFz)\n",
    "plt.ylabel('LF Load')\n",
    "\n",
    "\n",
    "# RF Load\n",
    "plt.subplot(222)\n",
    "plt.plot(RFFz)\n",
    "plt.ylabel('RF Load')\n",
    "\n",
    "\n",
    "# LR Load\n",
    "plt.subplot(223)\n",
    "plt.plot(LRFz)\n",
    "plt.ylabel('LR Load')\n",
    "\n",
    "\n",
    "# RR Load\n",
    "plt.subplot(224)\n",
    "plt.plot(RRFz)\n",
    "plt.ylabel('RR Load')\n",
    "\n",
    "plt.subplots_adjust(top=0.92, bottom=0.08, left=0.10, right=0.95, hspace=0.25,\n",
    "                    wspace=0.35)\n",
    "plt.show()"
   ]
  },
  {
   "cell_type": "code",
   "execution_count": null,
   "metadata": {
    "collapsed": true
   },
   "outputs": [],
   "source": []
  }
 ],
 "metadata": {
  "kernelspec": {
   "display_name": "Python 3",
   "language": "python",
   "name": "python3"
  },
  "language_info": {
   "codemirror_mode": {
    "name": "ipython",
    "version": 3
   },
   "file_extension": ".py",
   "mimetype": "text/x-python",
   "name": "python",
   "nbconvert_exporter": "python",
   "pygments_lexer": "ipython3",
   "version": "3.6.1"
  }
 },
 "nbformat": 4,
 "nbformat_minor": 2
}
